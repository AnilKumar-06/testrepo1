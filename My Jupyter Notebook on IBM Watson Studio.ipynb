{
    "cells": [
        {
            "cell_type": "markdown",
            "metadata": {
                "collapsed": true
            },
            "source": "# My Jupyter Notebook on IBM Watson Studio\n"
        },
        {
            "cell_type": "markdown",
            "metadata": {},
            "source": "# Anil Kumar\n\n# Data Scientist"
        },
        {
            "cell_type": "markdown",
            "metadata": {},
            "source": "*I am interested in data science because it's an unexploited field, and I can make quite a living from it.*"
        },
        {
            "cell_type": "markdown",
            "metadata": {},
            "source": "### 2 raise to the power 2"
        },
        {
            "cell_type": "code",
            "execution_count": 1,
            "metadata": {},
            "outputs": [
                {
                    "data": {
                        "text/plain": "4"
                    },
                    "execution_count": 1,
                    "metadata": {},
                    "output_type": "execute_result"
                }
            ],
            "source": "2 ** 2"
        },
        {
            "cell_type": "markdown",
            "metadata": {},
            "source": "1. Table\n\n| Name | Age |\n| ----| ----|\n| Anil | 28 |\n| Sudhir | 27 |\n\n\n\n2. [Coursera](https://www.coursera.org/)\n\n\n3. \n- Anil\n- Sudhir\n- Santosh\n- Vijay\n- Rohit"
        },
        {
            "cell_type": "code",
            "execution_count": null,
            "metadata": {},
            "outputs": [],
            "source": ""
        }
    ],
    "metadata": {
        "kernelspec": {
            "display_name": "Python 3.8",
            "language": "python",
            "name": "python3"
        },
        "language_info": {
            "codemirror_mode": {
                "name": "ipython",
                "version": 3
            },
            "file_extension": ".py",
            "mimetype": "text/x-python",
            "name": "python",
            "nbconvert_exporter": "python",
            "pygments_lexer": "ipython3",
            "version": "3.8.11"
        }
    },
    "nbformat": 4,
    "nbformat_minor": 1
}